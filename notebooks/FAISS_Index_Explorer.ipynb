{
 "cells": [
  {
   "cell_type": "markdown",
   "metadata": {},
   "source": [
    "# FAISS Index Exploration\n",
    "This notebook loads and explores a FAISS index file. Make sure `index.faiss` is in the same directory or update the path accordingly."
   ]
  },
  {
   "cell_type": "code",
   "execution_count": 1,
   "metadata": {},
   "outputs": [
    {
     "name": "stdout",
     "output_type": "stream",
     "text": [
      "Index type: <class 'faiss.swigfaiss.IndexFlatL2'>\n",
      "Dimension: 768\n",
      "Total vectors: 1786\n",
      "Is trained: True\n"
     ]
    }
   ],
   "source": [
    "import faiss\n",
    "import numpy as np\n",
    "\n",
    "# Load the FAISS index\n",
    "index = faiss.read_index(\"/Users/sakshamhooda/ClosedBookQA-1/vector_store/big_debt_crisis/index.faiss\")\n",
    "\n",
    "# Print basic info\n",
    "print(\"Index type:\", type(index))\n",
    "print(\"Dimension:\", index.d)\n",
    "print(\"Total vectors:\", index.ntotal)\n",
    "print(\"Is trained:\", index.is_trained)"
   ]
  },
  {
   "cell_type": "code",
   "execution_count": 2,
   "metadata": {},
   "outputs": [
    {
     "name": "stdout",
     "output_type": "stream",
     "text": [
      "Top-5 distances: [[244.91412 245.04398 245.18462 245.18706 245.22897]]\n",
      "Top-5 indices: [[1383 1033 1350 1363  379]]\n"
     ]
    }
   ],
   "source": [
    "# Generate a random query vector and perform search\n",
    "query = np.random.rand(1, index.d).astype(\"float32\")\n",
    "D, I = index.search(query, k=5)\n",
    "\n",
    "print(\"Top-5 distances:\", D)\n",
    "print(\"Top-5 indices:\", I)"
   ]
  },
  {
   "cell_type": "code",
   "execution_count": 4,
   "id": "2a09a69b",
   "metadata": {},
   "outputs": [],
   "source": [
    "index.add(np.random.rand(10, index.d).astype('float32'))"
   ]
  },
  {
   "cell_type": "code",
   "execution_count": 5,
   "id": "9f87452a",
   "metadata": {},
   "outputs": [],
   "source": [
    "vectors = [index.reconstruct(i).tolist() for i in range(index.ntotal)]"
   ]
  },
  {
   "cell_type": "code",
   "execution_count": null,
   "id": "19b71c12",
   "metadata": {},
   "outputs": [],
   "source": []
  }
 ],
 "metadata": {
  "kernelspec": {
   "display_name": ".venv",
   "language": "python",
   "name": "python3"
  },
  "language_info": {
   "codemirror_mode": {
    "name": "ipython",
    "version": 3
   },
   "file_extension": ".py",
   "mimetype": "text/x-python",
   "name": "python",
   "nbconvert_exporter": "python",
   "pygments_lexer": "ipython3",
   "version": "3.11.12"
  }
 },
 "nbformat": 4,
 "nbformat_minor": 5
}
