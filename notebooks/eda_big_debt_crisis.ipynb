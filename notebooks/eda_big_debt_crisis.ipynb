{
 "cells": [
  {
   "cell_type": "markdown",
   "metadata": {
    "vscode": {
     "languageId": "raw"
    }
   },
   "source": [
    "# EDA for 'Big Debt Crisis' by Ray Dalio\n"
   ]
  },
  {
   "cell_type": "markdown",
   "metadata": {
    "vscode": {
     "languageId": "raw"
    }
   },
   "source": [
    "## 1. Setup and Data Loading\n",
    "\n",
    "First, we'll import the necessary libraries, set up the paths, and load the book's text and structure. This includes a helper function to ensure the required NLTK data packages (`punkt` for tokenization and `stopwords` for analysis) are downloaded.\n"
   ]
  },
  {
   "cell_type": "code",
   "execution_count": 1,
   "metadata": {
    "execution": {
     "iopub.execute_input": "2025-08-07T18:47:55.834870Z",
     "iopub.status.busy": "2025-08-07T18:47:55.834653Z",
     "iopub.status.idle": "2025-08-07T18:47:57.807140Z",
     "shell.execute_reply": "2025-08-07T18:47:57.806881Z"
    }
   },
   "outputs": [
    {
     "name": "stdout",
     "output_type": "stream",
     "text": [
      "NLTK resource 'punkt_tab' not found. Downloading...\n"
     ]
    },
    {
     "name": "stdout",
     "output_type": "stream",
     "text": [
      "Download complete.\n",
      "Reading EPUB file...\n",
      "EPUB file read successfully.\n",
      "\n",
      "Extracting full text from the book...\n"
     ]
    },
    {
     "name": "stdout",
     "output_type": "stream",
     "text": [
      "Text extracted successfully.\n"
     ]
    }
   ],
   "source": [
    "import sys\n",
    "import os\n",
    "import re\n",
    "import ebooklib\n",
    "from ebooklib import epub\n",
    "from bs4 import BeautifulSoup\n",
    "import nltk\n",
    "from nltk.tokenize import word_tokenize, sent_tokenize\n",
    "from nltk.probability import FreqDist\n",
    "from nltk.util import bigrams\n",
    "from nltk.corpus import stopwords\n",
    "import matplotlib.pyplot as plt\n",
    "from collections import Counter\n",
    "\n",
    "# Add the src directory to the Python path\n",
    "sys.path.append(os.path.abspath('../src'))\n",
    "from data_ingestion import extract_text_from_epub\n",
    "\n",
    "# --- Download necessary NLTK data ---\n",
    "def download_nltk_resource(resource):\n",
    "    \"\"\"Checks for an NLTK resource and downloads it if not found.\"\"\"\n",
    "    try:\n",
    "        nltk.data.find(resource)\n",
    "    except LookupError:\n",
    "        print(f\"NLTK resource '{resource.split('/')[-1]}' not found. Downloading...\")\n",
    "        nltk.download(resource.split('/')[-1], quiet=True)\n",
    "        print(\"Download complete.\")\n",
    "\n",
    "download_nltk_resource('tokenizers/punkt')\n",
    "download_nltk_resource('corpora/stopwords')\n",
    "download_nltk_resource('tokenizers/punkt_tab')\n",
    "\n",
    "\n",
    "# --- Load Book Data ---\n",
    "book_path = '../data/BigDebtCrisis_RayDalio.epub'\n",
    "print(\"Reading EPUB file...\")\n",
    "book = epub.read_epub(book_path)\n",
    "print(\"EPUB file read successfully.\")\n",
    "\n",
    "print(\"\\nExtracting full text from the book...\")\n",
    "full_text = extract_text_from_epub(book_path)\n",
    "print(\"Text extracted successfully.\")"
   ]
  },
  {
   "cell_type": "markdown",
   "metadata": {
    "vscode": {
     "languageId": "raw"
    }
   },
   "source": [
    "## 2. Basic Textual Analysis\n",
    "\n",
    "Here, we'll compute some basic statistics for the entire book to get a high-level overview of its size and complexity.\n"
   ]
  },
  {
   "cell_type": "code",
   "execution_count": 2,
   "metadata": {
    "execution": {
     "iopub.execute_input": "2025-08-07T18:47:57.808320Z",
     "iopub.status.busy": "2025-08-07T18:47:57.808227Z",
     "iopub.status.idle": "2025-08-07T18:47:58.172585Z",
     "shell.execute_reply": "2025-08-07T18:47:58.172366Z"
    }
   },
   "outputs": [
    {
     "name": "stdout",
     "output_type": "stream",
     "text": [
      "Performing basic textual analysis...\n"
     ]
    },
    {
     "name": "stdout",
     "output_type": "stream",
     "text": [
      "Total characters: 1,187,252\n",
      "Total words: 214,469\n",
      "Total sentences: 7,214\n",
      "Vocabulary size (unique words): 11,692\n",
      "Average sentence length: 29.73 words\n",
      "\n",
      "--- Sample of extracted text ---\n",
      "\n",
      "\n",
      "\n",
      "\n",
      "\n",
      "\n",
      "A Template\n",
      "\n",
      "\n",
      "for Understanding\n",
      "\n",
      "\n",
      "\n",
      "BIG DEBT CRISES\n",
      "\n",
      "\n",
      "\n",
      "\n",
      "Ray Dalio\n",
      "\n",
      "\n",
      "\n",
      "\n",
      "Table of Contents\n",
      "\n",
      "\n",
      "\n",
      "A Template for Understanding Big Debt Crises\n",
      "\n",
      "\n",
      "Acknowledgements\n",
      "\n",
      "\n",
      "Introduction\n",
      "\n",
      "\n",
      "PART 1: The Archetypal Big Debt Cycle\n",
      "\n",
      "\n",
      "How I Think about Credit and Debt\n",
      "\n",
      "\n",
      "The Template for the Archetypal Long-Term/Big Debt Cycle\n",
      "\n",
      "\n",
      "Our Examination of the Cycle\n",
      "\n",
      "\n",
      "The Phases of the Classic Deflationary Debt Cycle\n",
      "\n",
      "\n",
      "The Early Part of the Cycle\n",
      "\n",
      "\n",
      "The Bubble\n",
      "\n",
      "\n",
      "The Top\n",
      "\n",
      "\n",
      "The “Depression”\n",
      "\n",
      "\n",
      "The “Beautiful Deleveraging”\n",
      "\n",
      "\n",
      "“Pu\n",
      "---------------------------------\n"
     ]
    }
   ],
   "source": [
    "# --- Perform basic textual analysis on the full text ---\n",
    "print(\"Performing basic textual analysis...\")\n",
    "char_count = len(full_text)\n",
    "words = word_tokenize(full_text.lower())\n",
    "word_count = len(words)\n",
    "sentences = sent_tokenize(full_text)\n",
    "sentence_count = len(sentences)\n",
    "avg_sentence_length = word_count / sentence_count if sentence_count > 0 else 0\n",
    "unique_words = set(words)\n",
    "vocab_size = len(unique_words)\n",
    "\n",
    "print(f\"Total characters: {char_count:,}\")\n",
    "print(f\"Total words: {word_count:,}\")\n",
    "print(f\"Total sentences: {sentence_count:,}\")\n",
    "print(f\"Vocabulary size (unique words): {vocab_size:,}\")\n",
    "print(f\"Average sentence length: {avg_sentence_length:.2f} words\")\n",
    "\n",
    "print(\"\\n--- Sample of extracted text ---\")\n",
    "print(full_text[:500])\n",
    "print(\"---------------------------------\")\n"
   ]
  },
  {
   "cell_type": "markdown",
   "metadata": {
    "vscode": {
     "languageId": "raw"
    }
   },
   "source": [
    "## 3. Word Frequency Analysis\n",
    "\n",
    "To understand the core topics, we'll analyze the frequency of words in the text, after removing common English \"stopwords\" (e.g., 'the', 'a', 'in').\n"
   ]
  },
  {
   "cell_type": "code",
   "execution_count": 3,
   "metadata": {
    "execution": {
     "iopub.execute_input": "2025-08-07T18:47:58.173613Z",
     "iopub.status.busy": "2025-08-07T18:47:58.173548Z",
     "iopub.status.idle": "2025-08-07T18:47:58.524484Z",
     "shell.execute_reply": "2025-08-07T18:47:58.524251Z"
    }
   },
   "outputs": [
    {
     "name": "stdout",
     "output_type": "stream",
     "text": [
      "Calculating word frequency (excluding stopwords)...\n",
      "Top 20 most common words:\n",
      "[('debt', 942), ('york', 758), ('times', 746), ('currency', 732), ('money', 601), ('policy', 596), ('financial', 576), ('percent', 562), ('gdp', 557), ('credit', 544), ('banks', 523), ('would', 522), ('bank', 482), ('new', 466), ('rates', 459), ('bubble', 441), ('market', 424), ('economic', 388), ('prices', 386), ('crisis', 367)]\n"
     ]
    },
    {
     "data": {
      "image/png": "[encoded data removed]",
      "text/plain": [
       "<Figure size 1200x600 with 1 Axes>"
      ]
     },
     "metadata": {},
     "output_type": "display_data"
    }
   ],
   "source": [
    "# --- Analyze word frequency, excluding common English stopwords ---\n",
    "print(\"Calculating word frequency (excluding stopwords)...\")\n",
    "stop_words = set(stopwords.words('english'))\n",
    "filtered_words = [word for word in words if word.isalnum() and word not in stop_words]\n",
    "\n",
    "fdist = FreqDist(filtered_words)\n",
    "\n",
    "print(\"Top 20 most common words:\")\n",
    "print(fdist.most_common(20))\n",
    "\n",
    "# --- Plot the frequency distribution ---\n",
    "plt.style.use('seaborn-v0_8-whitegrid')\n",
    "plt.figure(figsize=(12, 6))\n",
    "fdist.plot(30, cumulative=False, title=\"Top 30 Most Common Words (Excluding Stopwords)\")\n",
    "plt.show()\n"
   ]
  },
  {
   "cell_type": "markdown",
   "metadata": {
    "vscode": {
     "languageId": "raw"
    }
   },
   "source": [
    "## 4. Bigram Analysis\n",
    "\n",
    "Bigrams are pairs of adjacent words. Analyzing them helps us identify common phrases and concepts in the book.\n"
   ]
  },
  {
   "cell_type": "code",
   "execution_count": 4,
   "metadata": {
    "execution": {
     "iopub.execute_input": "2025-08-07T18:47:58.525678Z",
     "iopub.status.busy": "2025-08-07T18:47:58.525598Z",
     "iopub.status.idle": "2025-08-07T18:47:58.556884Z",
     "shell.execute_reply": "2025-08-07T18:47:58.556677Z"
    }
   },
   "outputs": [
    {
     "name": "stdout",
     "output_type": "stream",
     "text": [
      "Calculating bigram frequency...\n",
      "Top 20 most common bigrams:\n",
      "[(('york', 'times'), 673), (('policy', 'makers'), 308), (('interest', 'rates'), 207), (('federal', 'reserve'), 203), (('central', 'bank'), 142), (('new', 'york'), 142), (('financial', 'institutions'), 140), (('united', 'states'), 117), (('chart', 'deck'), 96), (('money', 'credit'), 93), (('chart', 'right'), 90), (('debt', 'gdp'), 89), (('shown', 'attribution'), 87), (('attribution', 'chart'), 87), (('real', 'fx'), 85), (('times', 'october'), 83), (('monetary', 'policy'), 81), (('stock', 'market'), 80), (('wall', 'street'), 80), (('bubble', 'phase'), 77)]\n"
     ]
    }
   ],
   "source": [
    "# --- Analyze bigrams (two-word phrases) ---\n",
    "print(\"Calculating bigram frequency...\")\n",
    "bgs = bigrams(filtered_words)\n",
    "fdist_bigrams = FreqDist(bgs)\n",
    "print(\"Top 20 most common bigrams:\")\n",
    "print(fdist_bigrams.most_common(20))\n"
   ]
  },
  {
   "cell_type": "raw",
   "metadata": {
    "vscode": {
     "languageId": "raw"
    }
   },
   "source": [
    "## 5. EPUB Structural Analysis\n",
    "\n",
    "Next, we'll examine the internal structure of the EPUB file itself. An EPUB is a collection of HTML files, and understanding its structure is key to good chunking. We'll look at the 'spine' (the official content order) and the list of all document files.\n"
   ]
  },
  {
   "cell_type": "code",
   "execution_count": 5,
   "metadata": {
    "execution": {
     "iopub.execute_input": "2025-08-07T18:47:58.557901Z",
     "iopub.status.busy": "2025-08-07T18:47:58.557838Z",
     "iopub.status.idle": "2025-08-07T18:47:58.559667Z",
     "shell.execute_reply": "2025-08-07T18:47:58.559465Z"
    }
   },
   "outputs": [
    {
     "name": "stdout",
     "output_type": "stream",
     "text": [
      "Analyzing EPUB structure...\n",
      "Number of items in spine: 10\n",
      "\n",
      "All document items (HREFs):\n",
      "  - text00000.html\n",
      "  - text00001.html\n",
      "  - text00002.html\n",
      "  - text00003.html\n",
      "  - text00004.html\n",
      "  - text00005.html\n",
      "  - text00006.html\n",
      "  - text00007.html\n",
      "  - ad_chapter.xhtml\n",
      "  - text00008.html\n"
     ]
    }
   ],
   "source": [
    "# --- Analyze the EPUB's structure from its metadata ---\n",
    "print(\"Analyzing EPUB structure...\")\n",
    "\n",
    "spine_items = book.spine\n",
    "print(f\"Number of items in spine: {len(spine_items)}\")\n",
    "\n",
    "print(\"\\nAll document items (HREFs):\")\n",
    "doc_items = [item for item in book.get_items_of_type(ebooklib.ITEM_DOCUMENT)]\n",
    "for item in doc_items:\n",
    "    print(f\"  - {item.get_name()}\")\n",
    "\n",
    "# The hrefs are more descriptive than the spine IDs and will be used for further analysis.\n"
   ]
  },
  {
   "cell_type": "markdown",
   "metadata": {
    "vscode": {
     "languageId": "raw"
    }
   },
   "source": [
    "## 6. Analysis for RAG Strategy\n",
    "\n",
    "This section focuses on extracting information specifically to inform our RAG implementation\n"
   ]
  },
  {
   "cell_type": "markdown",
   "metadata": {
    "vscode": {
     "languageId": "raw"
    }
   },
   "source": [
    "### 6.1 Extracting Part/Section Hierarchy\n",
    "\n",
    "The book is highly structured into Parts and Sections. We'll parse the HTML of each document to extract this hierarchy using header tags (`<h1>`, `<h2>`, etc.). This will provide the `metadata.part` and `metadata.section` fields needed for filtering in the RAG pipeline.\n"
   ]
  },
  {
   "cell_type": "code",
   "execution_count": 6,
   "metadata": {
    "execution": {
     "iopub.execute_input": "2025-08-07T18:47:58.560625Z",
     "iopub.status.busy": "2025-08-07T18:47:58.560571Z",
     "iopub.status.idle": "2025-08-07T18:47:58.977816Z",
     "shell.execute_reply": "2025-08-07T18:47:58.977611Z"
    }
   },
   "outputs": [
    {
     "name": "stdout",
     "output_type": "stream",
     "text": [
      "Extracting book structure from HTML headers...\n"
     ]
    },
    {
     "name": "stdout",
     "output_type": "stream",
     "text": [
      "\n",
      "Detected Structure:\n"
     ]
    }
   ],
   "source": [
    "# --- Dive deeper into the HTML of each document to find headers (h1, h2, etc.) ---\n",
    "print(\"Extracting book structure from HTML headers...\")\n",
    "structure = {}\n",
    "current_part = \"Unknown Part\"\n",
    "\n",
    "for item in doc_items:\n",
    "    content = item.get_content()\n",
    "    soup = BeautifulSoup(content, 'html.parser')\n",
    "    \n",
    "    # Heuristically find part titles (often in h1 or specific classes)\n",
    "    # Using a more general search for titles\n",
    "    part_title = soup.find(['h1', 'h2'], class_=re.compile(r'part|title', re.I))\n",
    "    if part_title and len(part_title.get_text(strip=True)) < 100: # Avoid long text passages\n",
    "        current_part = part_title.get_text(strip=True)\n",
    "        if current_part not in structure:\n",
    "            structure[current_part] = []\n",
    "\n",
    "    # Find chapter or section titles\n",
    "    section_titles = soup.find_all(['h2', 'h3', 'h4'], class_=re.compile(r'ch|sec|title', re.I))\n",
    "    for title in section_titles:\n",
    "        title_text = title.get_text(strip=True)\n",
    "        if title_text != current_part and len(title_text) < 150:\n",
    "            structure.setdefault(current_part, []).append(title_text)\n",
    "\n",
    "print(\"\\nDetected Structure:\")\n",
    "for part, sections in structure.items():\n",
    "    print(f\"- {part}\")\n",
    "    # Remove duplicates and print first 5 sections for brevity\n",
    "    unique_sections = list(dict.fromkeys(sections))\n",
    "    for section in unique_sections[:5]:\n",
    "        print(f\"  - {section}\")\n",
    "    if len(unique_sections) > 5:\n",
    "        print(\"  - ...\")\n"
   ]
  },
  {
   "cell_type": "markdown",
   "metadata": {
    "vscode": {
     "languageId": "raw"
    }
   },
   "source": [
    "### 6.2 Identifying Images, Tables, and Blockquotes\n",
    "\n",
    "Our strategy requires special handling for non-textual or distinct elements:\n",
    "- **Images**: Will be stripped, but we'll store metadata about their existence.\n",
    "- **Tables**: The text within them should be preserved.\n",
    "- **Blockquotes**: Should be kept in single chunks to preserve the integrity of quotations.\n",
    "\n",
    "This analysis counts these elements across the book.\n"
   ]
  },
  {
   "cell_type": "code",
   "execution_count": 7,
   "metadata": {
    "execution": {
     "iopub.execute_input": "2025-08-07T18:47:58.978814Z",
     "iopub.status.busy": "2025-08-07T18:47:58.978750Z",
     "iopub.status.idle": "2025-08-07T18:47:59.386549Z",
     "shell.execute_reply": "2025-08-07T18:47:59.386342Z"
    }
   },
   "outputs": [
    {
     "name": "stdout",
     "output_type": "stream",
     "text": [
      "Total Images Found: 1608\n",
      "Total Tables Found: 0\n",
      "Total Blockquotes Found: 6940\n"
     ]
    }
   ],
   "source": [
    "# --- Count key HTML tags relevant to the RAG strategy ---\n",
    "tag_counts = Counter()\n",
    "image_alt_texts = []\n",
    "\n",
    "for item in doc_items:\n",
    "    content = item.get_content()\n",
    "    soup = BeautifulSoup(content, 'html.parser')\n",
    "    \n",
    "    images = soup.find_all('img')\n",
    "    tag_counts['images'] += len(images)\n",
    "    for img in images:\n",
    "        if img.get('alt'):\n",
    "            image_alt_texts.append(img.get('alt'))\n",
    "            \n",
    "    tag_counts['tables'] += len(soup.find_all('table'))\n",
    "    tag_counts['blockquotes'] += len(soup.find_all('blockquote'))\n",
    "\n",
    "print(f\"Total Images Found: {tag_counts['images']}\")\n",
    "print(f\"Total Tables Found: {tag_counts['tables']}\")\n",
    "print(f\"Total Blockquotes Found: {tag_counts['blockquotes']}\")\n",
    "\n",
    "if image_alt_texts:\n",
    "    print(\"\\nSample of Image Alt Texts (potential metadata):\")\n",
    "    for alt in image_alt_texts[:5]:\n",
    "        print(f\"  - {alt}\")\n"
   ]
  },
  {
   "cell_type": "markdown",
   "metadata": {
    "vscode": {
     "languageId": "raw"
    }
   },
   "source": [
    "## 7. Citation Handling Note\n",
    "\n",
    "As a final note, creating a reliable citation system that maps text chunks back to specific PDF page numbers requires aligning the EPUB text with the PDF content. This is a complex task that will be handled during the main data ingestion process, not in this initial EDA.\n"
   ]
  },
  {
   "cell_type": "markdown",
   "metadata": {
    "vscode": {
     "languageId": "raw"
    }
   },
   "source": [
    "\n"
   ]
  },
  {
   "cell_type": "code",
   "execution_count": null,
   "metadata": {},
   "outputs": [],
   "source": []
  }
 ],
 "metadata": {
  "kernelspec": {
   "display_name": ".venv",
   "language": "python",
   "name": "python3"
  },
  "language_info": {
   "codemirror_mode": {
    "name": "ipython",
    "version": 3
   },
   "file_extension": ".py",
   "mimetype": "text/x-python",
   "name": "python",
   "nbconvert_exporter": "python",
   "pygments_lexer": "ipython3",
   "version": "3.11.12"
  }
 },
 "nbformat": 4,
 "nbformat_minor": 2
}
